{
 "cells": [
  {
   "cell_type": "code",
   "execution_count": 108,
   "metadata": {},
   "outputs": [],
   "source": [
    "'''\n",
    "HW2 problem\n",
    "'''\n",
    "\n",
    "import sys\n",
    "import os\n",
    "import matplotlib.pyplot as plt\n",
    "import numpy as np\n",
    "from scipy import stats\n",
    "import scipy.special as sp\n",
    "import time\n",
    "from scipy.optimize import minimize\n",
    "\n",
    "import data_generator as dg"
   ]
  },
  {
   "cell_type": "code",
   "execution_count": 109,
   "metadata": {},
   "outputs": [],
   "source": [
    "\n",
    "# you can define/use whatever functions to implememt\n",
    "\n",
    "# Softmax가 적용된 matrix 구하기\n",
    "def getSoftmax(s):\n",
    "    return np.exp(s) / np.sum(np.exp(s), axis=0)\n",
    "\n",
    "# Loss를 계산하기 위해서 one-hot-encoded된 벡터 구하기\n",
    "def getOneHotVector(correct_class, num_class):\n",
    "    # class의 수 만큼 0을 넣어놓은 ndarray 생성\n",
    "    enc = np.zeros(num_class)\n",
    "    \n",
    "    # 그리고 정답 클래스에만 1을 넣기\n",
    "    enc[correct_class] = 1\n",
    "    return enc\n",
    "\n",
    "########################################\n",
    "# cross entropy loss\n",
    "########################################\n",
    "\n",
    "# Wb = np.random.normal(0, 1, (2*num_class + num_class))의 결과\n",
    "# 처음 2*num_class (8개) 요소들은 (num_class X feat_dim) 사이즈 W의 parameter들이고,\n",
    "# 마지막 num_class (4개) 요소들은 bias 벡터의 parameter들이다.\n",
    "# 나중에 reshape이랑 slicing을 통해 W와 b로 나눠진다.\n",
    "# x = x_train (shape: (400, 2))\n",
    "# y = y_train (shape: (400, 1))\n",
    "# num_class = 4\n",
    "# n = 400\n",
    "# feat_dim = 2\n",
    "def cross_entropy_softmax_loss(Wb, x, y, num_class, n, feat_dim):\n",
    "    # implement your function here\n",
    "    \n",
    "    # This will give you a score matrix 's' of size (num_class)x(n)\n",
    "    # the i-th column vector of 's' will be the score vector of size (num_class)x(1) for the i-th input data point\n",
    "    Wb = np.reshape(Wb, (-1, 1))\n",
    "    b = Wb[-num_class:]\n",
    "    W = np.reshape(Wb[range(num_class * feat_dim)], (num_class, feat_dim))\n",
    "    x = np.reshape(x.T, (-1, n))\n",
    "    \n",
    "    # performing s=Wx+b (s는 4 * 400 사이즈의 score 매트릭스)\n",
    "    s = W@x + b\n",
    "\n",
    "    # score matrix 's'를 softmax에 통과시킨다\n",
    "    softmax_score = getSoftmax(s)\n",
    "    \n",
    "    # loss들을 담을 리스트 (n만큼 담는다)\n",
    "    loss_list = np.zeros(n)\n",
    "    \n",
    "    # softmax_score를 column별로 돌면서 정답벡터와 내적한 결과를 loss 매트릭스에 담는다.\n",
    "    for i in range(n):\n",
    "        label_vector = getOneHotVector(y[i], num_class)\n",
    "        loss = softmax_score.T[i]@label_vector\n",
    "        loss_list[i] = loss\n",
    "    \n",
    "    # return cross entropy loss\n",
    "    loss_sum = -np.sum(np.log(loss_list))\n",
    "    return loss_sum / num_class\n",
    "\n",
    "    pass"
   ]
  },
  {
   "cell_type": "code",
   "execution_count": 110,
   "metadata": {},
   "outputs": [],
   "source": [
    "# now lets test the model for linear models, that is, SVM and softmax\n",
    "def linear_classifier_test(Wb, x, y, num_class):\n",
    "    n_test = x.shape[0]\n",
    "    feat_dim = x.shape[1]\n",
    "    \n",
    "    Wb = np.reshape(Wb, (-1, 1))\n",
    "    b = Wb[-num_class:].squeeze()\n",
    "    W = np.reshape(Wb[:-num_class], (num_class, feat_dim))\n",
    "    accuracy = 0\n",
    "\n",
    "    # W has shape (num_class, feat_dim), b has shape (num_class,)\n",
    "\n",
    "    # score\n",
    "    s = x@W.T + b\n",
    "    # score has shape (n_test, num_class)\n",
    "    \n",
    "    # get argmax over class dim\n",
    "    res = np.argmax(s, axis = 1)\n",
    "\n",
    "    # get accuracy\n",
    "    accuracy = (res == y).astype('uint8').sum()/n_test\n",
    "    \n",
    "    return accuracy"
   ]
  },
  {
   "cell_type": "code",
   "execution_count": 111,
   "metadata": {},
   "outputs": [
    {
     "name": "stdout",
     "output_type": "stream",
     "text": [
      "number of classes:  4  sigma for data scatter: 1.0\n",
      "generating training data\n",
      "400 data points generated. Seed is random.\n"
     ]
    },
    {
     "data": {
      "image/png": "[encoded data removed]",
      "text/plain": [
       "<Figure size 640x480 with 1 Axes>"
      ]
     },
     "metadata": {},
     "output_type": "display_data"
    },
    {
     "name": "stdout",
     "output_type": "stream",
     "text": [
      "generating test data\n",
      "100 data points generated. Seed is random.\n",
      "training softmax classifier...\n",
      "testing softmax classifier...\n",
      "accuracy of softmax loss:  91.0 %\n"
     ]
    }
   ],
   "source": [
    "# number of classes: this can be either 3 or 4\n",
    "num_class = 4\n",
    "\n",
    "# sigma controls the degree of data scattering. Larger sigma gives larger scatter\n",
    "# default is 1.0. Accuracy becomes lower with larger sigma\n",
    "sigma = 1.0\n",
    "\n",
    "print('number of classes: ',num_class,' sigma for data scatter:',sigma)\n",
    "if num_class == 4:\n",
    "    n_train = 400\n",
    "    n_test = 100\n",
    "    feat_dim = 2\n",
    "else:  # then 3\n",
    "    n_train = 300\n",
    "    n_test = 60\n",
    "    feat_dim = 2\n",
    "\n",
    "# generate train dataset\n",
    "print('generating training data')\n",
    "x_train, y_train = dg.generate(number=n_train, seed=None, plot=True, num_class=num_class, sigma=sigma)\n",
    "\n",
    "# generate test dataset\n",
    "print('generating test data')\n",
    "x_test, y_test = dg.generate(number=n_test, seed=None, plot=False, num_class=num_class, sigma=sigma)\n",
    "\n",
    "# start training softmax classifier\n",
    "print('training softmax classifier...')\n",
    "w0 = np.random.normal(0, 1, (2 * num_class + num_class))\n",
    "result = minimize(cross_entropy_softmax_loss, w0, args=(x_train, y_train, num_class, n_train, feat_dim))\n",
    "\n",
    "print('testing softmax classifier...')\n",
    "\n",
    "Wb = result.x\n",
    "print('accuracy of softmax loss: ', linear_classifier_test(Wb, x_test, y_test, num_class)*100,'%')"
   ]
  },
  {
   "cell_type": "code",
   "execution_count": null,
   "metadata": {},
   "outputs": [],
   "source": []
  }
 ],
 "metadata": {
  "kernelspec": {
   "display_name": "Python 3.10.6 64-bit (system)",
   "language": "python",
   "name": "python3"
  },
  "language_info": {
   "codemirror_mode": {
    "name": "ipython",
    "version": 3
   },
   "file_extension": ".py",
   "mimetype": "text/x-python",
   "name": "python",
   "nbconvert_exporter": "python",
   "pygments_lexer": "ipython3",
   "version": "3.10.6"
  },
  "orig_nbformat": 4,
  "vscode": {
   "interpreter": {
    "hash": "24cbd48528ef30644a4c0b3b48f30a048f2ce882986e8eaa6af7187cf578eebd"
   }
  }
 },
 "nbformat": 4,
 "nbformat_minor": 2
}
